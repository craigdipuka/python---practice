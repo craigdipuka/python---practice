{
  "nbformat": 4,
  "nbformat_minor": 0,
  "metadata": {
    "colab": {
      "provenance": [],
      "authorship_tag": "ABX9TyO9wMuwaTZR+eNdTRHT3qZy",
      "include_colab_link": true
    },
    "kernelspec": {
      "name": "python3",
      "display_name": "Python 3"
    },
    "language_info": {
      "name": "python"
    }
  },
  "cells": [
    {
      "cell_type": "markdown",
      "metadata": {
        "id": "view-in-github",
        "colab_type": "text"
      },
      "source": [
        "<a href=\"https://colab.research.google.com/github/craigdipuka/python---practice/blob/main/Exercise_5_lists.ipynb\" target=\"_parent\"><img src=\"https://colab.research.google.com/assets/colab-badge.svg\" alt=\"Open In Colab\"/></a>"
      ]
    },
    {
      "cell_type": "markdown",
      "source": [
        "Exercise: Python Lists\n",
        "\n",
        "    Let us say your expense for every month are listed below,\n",
        "        January - 2200\n",
        "        February - 2350\n",
        "        March - 2600\n",
        "        April - 2130\n",
        "        May - 2190\n",
        "\n",
        "Create a list to store these monthly expenses and using that find out,\n",
        "\n",
        "1. In Feb, how many dollars you spent extra compare to January?\n",
        "2. Find out your total expense in first quarter (first three months) of the year.\n",
        "3. Find out if you spent exactly 2000 dollars in any month\n",
        "4. June month just finished and your expense is 1980 dollar. Add this item to our monthly expense list\n",
        "5. You returned an item that you bought in a month of April and\n",
        "got a refund of 200$. Make a correction to your monthly expense list\n",
        "based on this\n",
        "\n",
        "    You have a list of your favourite marvel super heros.\n",
        "\n",
        "heros=['spider man','thor','hulk','iron man','captain america']\n",
        "\n",
        "Using this find out,\n",
        "\n",
        "1. Length of the list\n",
        "2. Add 'black panther' at the end of this list\n",
        "3. You realize that you need to add 'black panther' after 'hulk',\n",
        "   so remove it from the list first and then add it after 'hulk'\n",
        "4. Now you don't like thor and hulk because they get angry easily :)\n",
        "   So you want to remove thor and hulk from list and replace them with doctor strange (because he is cool).\n",
        "   Do that with one line of code.\n",
        "5. Sort the heros list in alphabetical order (Hint. Use dir() functions to list down all functions available in list)\n",
        "\n"
      ],
      "metadata": {
        "id": "CHF0Uq3d-EI8"
      }
    },
    {
      "cell_type": "markdown",
      "source": [
        "In Feb, how many dollars you spent extra compare to January?"
      ],
      "metadata": {
        "id": "i1FmCndoGJ2_"
      }
    },
    {
      "cell_type": "code",
      "source": [
        "exp = [2200, 2350 , 2600, 2130, 2190]\n",
        "febJan_exp = exp[2] - exp[1]\n",
        "print(febJan_exp)"
      ],
      "metadata": {
        "colab": {
          "base_uri": "https://localhost:8080/"
        },
        "id": "bMEAnifl-PYt",
        "outputId": "96a08d51-ac58-481c-f52a-11c3600415d3"
      },
      "execution_count": 4,
      "outputs": [
        {
          "output_type": "stream",
          "name": "stdout",
          "text": [
            "250\n"
          ]
        }
      ]
    },
    {
      "cell_type": "markdown",
      "source": [
        "Find out your total expense in first quarter (first three months) of the year."
      ],
      "metadata": {
        "id": "hfS9EF8RGM_g"
      }
    },
    {
      "cell_type": "code",
      "source": [
        "quarter_expenses = exp[1] + exp[2] +exp[3]\n",
        "print(quarter_expenses)"
      ],
      "metadata": {
        "colab": {
          "base_uri": "https://localhost:8080/"
        },
        "id": "TBulEQtlDI2Y",
        "outputId": "f40b21d4-6473-48aa-a3da-aac21b37475f"
      },
      "execution_count": 5,
      "outputs": [
        {
          "output_type": "stream",
          "name": "stdout",
          "text": [
            "7080\n"
          ]
        }
      ]
    },
    {
      "cell_type": "markdown",
      "source": [
        "Find out if you spent exactly 2000 dollars in any month"
      ],
      "metadata": {
        "id": "E3tFpTtBGRql"
      }
    },
    {
      "cell_type": "code",
      "source": [
        "element = 2000\n",
        "\n",
        "if element in exp:\n",
        "  print(\"you spent $2000 in a specific month\")\n",
        "else:\n",
        "  print(\"there is no month you spent $2000 specifically\")"
      ],
      "metadata": {
        "colab": {
          "base_uri": "https://localhost:8080/"
        },
        "id": "8z2QJ126GGyt",
        "outputId": "3a47ac03-e994-4c0e-b0fa-2a24e7fa66ef"
      },
      "execution_count": 7,
      "outputs": [
        {
          "output_type": "stream",
          "name": "stdout",
          "text": [
            "there is no month you spent $2000 specifically\n"
          ]
        }
      ]
    },
    {
      "cell_type": "markdown",
      "source": [
        "June month just finished and your expense is 1980 dollar. Add this item to our monthly expense list"
      ],
      "metadata": {
        "id": "Ad2VbtVMHGxx"
      }
    },
    {
      "cell_type": "code",
      "source": [
        "exp.append(1980)\n",
        "print(exp)"
      ],
      "metadata": {
        "colab": {
          "base_uri": "https://localhost:8080/"
        },
        "id": "xIsxThIiHQeQ",
        "outputId": "bdd4d415-cd81-45b1-8d2c-a1394063f78c"
      },
      "execution_count": 8,
      "outputs": [
        {
          "output_type": "stream",
          "name": "stdout",
          "text": [
            "[2200, 2350, 2600, 2130, 2190, 1980]\n"
          ]
        }
      ]
    },
    {
      "cell_type": "markdown",
      "source": [
        "You returned an item that you bought in a month of April and got a refund of 200$. Make a correction to your monthly expense list based on this"
      ],
      "metadata": {
        "id": "tMtBmihMKFQR"
      }
    },
    {
      "cell_type": "code",
      "source": [
        "exp[3] = exp[3]-200\n",
        "print(exp)"
      ],
      "metadata": {
        "colab": {
          "base_uri": "https://localhost:8080/"
        },
        "id": "qGJFi9QnKH5K",
        "outputId": "63f0fe43-7cbc-4b67-f5fc-6c0741055c7a"
      },
      "execution_count": 9,
      "outputs": [
        {
          "output_type": "stream",
          "name": "stdout",
          "text": [
            "[2200, 2350, 2600, 1930, 2190, 1980]\n"
          ]
        }
      ]
    },
    {
      "cell_type": "code",
      "source": [
        "heros=['spider man','thor','hulk','iron man','captain america']"
      ],
      "metadata": {
        "id": "r7DAkdpSKvuY"
      },
      "execution_count": 12,
      "outputs": []
    },
    {
      "cell_type": "markdown",
      "source": [
        "Length of the list"
      ],
      "metadata": {
        "id": "LIt61l45K-Ji"
      }
    },
    {
      "cell_type": "code",
      "source": [
        "length = len(heros)\n",
        "print(length)"
      ],
      "metadata": {
        "colab": {
          "base_uri": "https://localhost:8080/"
        },
        "id": "Gs9km0FJLCkD",
        "outputId": "fe0106b8-cb77-4910-c11c-aa02f4bc8540"
      },
      "execution_count": 14,
      "outputs": [
        {
          "output_type": "stream",
          "name": "stdout",
          "text": [
            "5\n"
          ]
        }
      ]
    },
    {
      "cell_type": "markdown",
      "source": [
        "Add 'black panther' at the end of this list"
      ],
      "metadata": {
        "id": "YbbUzi6SMkQM"
      }
    },
    {
      "cell_type": "code",
      "source": [
        "heros.append(\"black panther\")\n",
        "print(heros)"
      ],
      "metadata": {
        "colab": {
          "base_uri": "https://localhost:8080/"
        },
        "id": "5ZC1taHhMlh_",
        "outputId": "00b92965-dd91-4f18-e16d-a77da3be77a7"
      },
      "execution_count": 15,
      "outputs": [
        {
          "output_type": "stream",
          "name": "stdout",
          "text": [
            "['spider man', 'thor', 'hulk', 'iron man', 'captain america', 'black panther']\n"
          ]
        }
      ]
    },
    {
      "cell_type": "markdown",
      "source": [
        "You realize that you need to add 'black panther' after 'hulk', so remove it from the list first and then add it after 'hulk'"
      ],
      "metadata": {
        "id": "bwtsqiBbN43o"
      }
    },
    {
      "cell_type": "code",
      "source": [
        "heros.pop()\n",
        "extras = [\"hulk\" , \"black panther\"]\n",
        "heros.extend(extras)\n",
        "print(heros)"
      ],
      "metadata": {
        "colab": {
          "base_uri": "https://localhost:8080/"
        },
        "id": "h6ArTJxwN5_w",
        "outputId": "65fcc325-0107-4c01-c5db-25f00d366571"
      },
      "execution_count": 16,
      "outputs": [
        {
          "output_type": "stream",
          "name": "stdout",
          "text": [
            "['spider man', 'thor', 'hulk', 'iron man', 'captain america', 'hulk', 'black panther']\n"
          ]
        }
      ]
    },
    {
      "cell_type": "markdown",
      "source": [
        "Now you don't like thor and hulk because they get angry easily :) So you want to remove thor and hulk from list and replace them with doctor strange (because he is cool). Do that with one line of code."
      ],
      "metadata": {
        "id": "vua7pjOUP6XQ"
      }
    },
    {
      "cell_type": "code",
      "source": [
        "unwanted = [\"thor\", \"hulk\"]\n"
      ],
      "metadata": {
        "id": "egTJutZcSLxF"
      },
      "execution_count": null,
      "outputs": []
    }
  ]
}