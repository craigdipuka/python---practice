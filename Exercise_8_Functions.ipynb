{
  "nbformat": 4,
  "nbformat_minor": 0,
  "metadata": {
    "colab": {
      "provenance": [],
      "authorship_tag": "ABX9TyOcyVbeWrLhys+D+mRB30li",
      "include_colab_link": true
    },
    "kernelspec": {
      "name": "python3",
      "display_name": "Python 3"
    },
    "language_info": {
      "name": "python"
    }
  },
  "cells": [
    {
      "cell_type": "markdown",
      "metadata": {
        "id": "view-in-github",
        "colab_type": "text"
      },
      "source": [
        "<a href=\"https://colab.research.google.com/github/craigdipuka/python---practice/blob/main/Exercise_8_Functions.ipynb\" target=\"_parent\"><img src=\"https://colab.research.google.com/assets/colab-badge.svg\" alt=\"Open In Colab\"/></a>"
      ]
    },
    {
      "cell_type": "markdown",
      "source": [
        "Write a function called calculate_area that takes base and height as an input and returns and area of a triangle. Equation of an area of a triangle is,\n",
        "\n",
        "area = (1/2)*base*height"
      ],
      "metadata": {
        "id": "SorxTbcEPwmk"
      }
    },
    {
      "cell_type": "code",
      "execution_count": 3,
      "metadata": {
        "colab": {
          "base_uri": "https://localhost:8080/"
        },
        "id": "gedqgf3qPp6L",
        "outputId": "f4831112-7a15-45c9-b480-0bb81f68867f"
      },
      "outputs": [
        {
          "output_type": "stream",
          "name": "stdout",
          "text": [
            "36.0\n"
          ]
        }
      ],
      "source": [
        "def calculate_area(base , height):\n",
        "    area = (base*height)/2\n",
        "    return area\n",
        "\n",
        "print(calculate_area(12,6))"
      ]
    },
    {
      "cell_type": "markdown",
      "source": [
        "Modify above function to take third parameter shape type. It can be either \"triangle\" or \"rectangle\". Based on shape type it will calculate area. Equation of rectangle's area is,\n",
        "\n",
        "rectangle area=length*width"
      ],
      "metadata": {
        "id": "fULIPz5KQz0N"
      }
    },
    {
      "cell_type": "code",
      "source": [
        "def calculate_area2 (base , height , *rectangle):\n",
        "  if rectangle == True:\n",
        "    area = base * height\n",
        "    return \"Area of ractangle is\" , area\n",
        "\n",
        "  else : area = (base*height)/2\n",
        "  return area\n",
        "\n",
        "\n",
        "area = calculate_area2(10,3,\"Triangle\")\n",
        "print(area)"
      ],
      "metadata": {
        "colab": {
          "base_uri": "https://localhost:8080/"
        },
        "id": "WK3UwY2GQ2-Y",
        "outputId": "49304ebc-fafc-475a-8be8-e8d161ee3891"
      },
      "execution_count": 9,
      "outputs": [
        {
          "output_type": "stream",
          "name": "stdout",
          "text": [
            "15.0\n"
          ]
        }
      ]
    }
  ]
}