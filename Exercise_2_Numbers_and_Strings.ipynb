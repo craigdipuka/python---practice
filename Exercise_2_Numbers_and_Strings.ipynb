{
  "nbformat": 4,
  "nbformat_minor": 0,
  "metadata": {
    "colab": {
      "provenance": [],
      "authorship_tag": "ABX9TyNzKAO1ZsJ7ixzWkeQXU1Xm",
      "include_colab_link": true
    },
    "kernelspec": {
      "name": "python3",
      "display_name": "Python 3"
    },
    "language_info": {
      "name": "python"
    }
  },
  "cells": [
    {
      "cell_type": "markdown",
      "metadata": {
        "id": "view-in-github",
        "colab_type": "text"
      },
      "source": [
        "<a href=\"https://colab.research.google.com/github/craigdipuka/python---practice/blob/main/Exercise_2_Numbers_and_Strings.ipynb\" target=\"_parent\"><img src=\"https://colab.research.google.com/assets/colab-badge.svg\" alt=\"Open In Colab\"/></a>"
      ]
    },
    {
      "cell_type": "markdown",
      "source": [
        "Exercise: Numbers in python\n",
        "\n",
        "    You have a football field that is 92 meter long and 48.8 meter wide. Find out total area using python and print it.\n",
        "    You bought 9 packets of potato chips from a store. Each packet costs 1.49 dollar and you gave shopkeeper 20 dollar. Find out using python, how many dollars is the shopkeeper going to give you back?\n",
        "    You want to replace tiles in your bathroom which is exactly square and 5.5 feet is its length. If tiles cost 500 rs per square feet, how much will be the total cost to replace all tiles. Calculate and print the cost using python (Hint: Use power operator ** to find area of a square)\n",
        "    Print binary representation of number 17\n"
      ],
      "metadata": {
        "id": "lpaiymkRyh6N"
      }
    },
    {
      "cell_type": "code",
      "source": [
        "import math\n",
        "\n",
        "\n",
        "x = 92*48.8\n",
        "area  = round(x,2)\n",
        "print(area)"
      ],
      "metadata": {
        "colab": {
          "base_uri": "https://localhost:8080/"
        },
        "id": "hxStAUN9yjt2",
        "outputId": "5b9594e4-5e32-4bc1-8d7a-9dc63878c161"
      },
      "execution_count": 5,
      "outputs": [
        {
          "output_type": "stream",
          "name": "stdout",
          "text": [
            "4489.6\n"
          ]
        }
      ]
    },
    {
      "cell_type": "code",
      "source": [
        "one_package = 1.49\n",
        "all_packages = one_package * 9\n",
        "change = 20 - all_packages\n",
        "print(change)"
      ],
      "metadata": {
        "colab": {
          "base_uri": "https://localhost:8080/"
        },
        "id": "VeEr54aU0HBy",
        "outputId": "60fdf7a9-b11e-47e7-cc20-5e9f10d6822d"
      },
      "execution_count": 6,
      "outputs": [
        {
          "output_type": "stream",
          "name": "stdout",
          "text": [
            "6.59\n"
          ]
        }
      ]
    },
    {
      "cell_type": "code",
      "source": [
        "length = 5.5\n",
        "cost_per_square = 500\n",
        "area = length**2\n",
        "totalCost = area * cost_per_square\n",
        "print(totalCost)"
      ],
      "metadata": {
        "colab": {
          "base_uri": "https://localhost:8080/"
        },
        "id": "JOagkhM80lxg",
        "outputId": "50c517c8-546f-4dc3-e821-216bf4ccf073"
      },
      "execution_count": 7,
      "outputs": [
        {
          "output_type": "stream",
          "name": "stdout",
          "text": [
            "15125.0\n"
          ]
        }
      ]
    },
    {
      "cell_type": "code",
      "source": [
        "number = 17\n",
        "binary_representation = bin(number)\n",
        "print(binary_representation)"
      ],
      "metadata": {
        "colab": {
          "base_uri": "https://localhost:8080/"
        },
        "id": "KzQh9R4e1bng",
        "outputId": "36a92886-b27f-43c1-fa9a-2872866c4629"
      },
      "execution_count": 8,
      "outputs": [
        {
          "output_type": "stream",
          "name": "stdout",
          "text": [
            "0b10001\n"
          ]
        }
      ]
    }
  ]
}