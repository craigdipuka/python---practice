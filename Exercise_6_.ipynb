{
  "nbformat": 4,
  "nbformat_minor": 0,
  "metadata": {
    "colab": {
      "provenance": [],
      "authorship_tag": "ABX9TyMge21VZK9MQ19GEpKFMJmK",
      "include_colab_link": true
    },
    "kernelspec": {
      "name": "python3",
      "display_name": "Python 3"
    },
    "language_info": {
      "name": "python"
    }
  },
  "cells": [
    {
      "cell_type": "markdown",
      "metadata": {
        "id": "view-in-github",
        "colab_type": "text"
      },
      "source": [
        "<a href=\"https://colab.research.google.com/github/craigdipuka/python---practice/blob/main/Exercise_6_.ipynb\" target=\"_parent\"><img src=\"https://colab.research.google.com/assets/colab-badge.svg\" alt=\"Open In Colab\"/></a>"
      ]
    },
    {
      "cell_type": "markdown",
      "source": [
        "## Exercise: Python If Condition\n",
        " 1. Using following list of cities per country,\n",
        "    - india = [\"mumbai\", \"banglore\", \"chennai\", \"delhi\"]\n",
        "    - pakistan = [\"lahore\",\"karachi\",\"islamabad\"]\n",
        "    - bangladesh = [\"dhaka\", \"khulna\", \"rangpur\"]\n",
        "    \n",
        "Write a program that asks user to enter a city name and it should tell which country the city belongs to"
      ],
      "metadata": {
        "id": "hoEQfx1lj7p1"
      }
    },
    {
      "cell_type": "code",
      "execution_count": 1,
      "metadata": {
        "id": "bgv1J8K6jqe2"
      },
      "outputs": [],
      "source": [
        "india = [\"Mumbai\" , \"Bangalore\", \"Chennai\" , \"Dehli\"]\n",
        "pakistan = [\"Lahore\", \"Karachi\", \"Islamabad\"]\n",
        "bangladesh = [\"Dhaka\", \"Khulna\", \"Rangpur\"]"
      ]
    },
    {
      "cell_type": "code",
      "source": [
        "city = input(\"Please enter any main city in India , Pakistan or Bangladesh\\n\")\n",
        "city = city.capitalize()\n",
        "\n",
        "if city in india:\n",
        "  print(\"this is city in India\")\n",
        "elif city in pakistan:\n",
        "  print(\"this is a city in Pakistan\")\n",
        "elif city in bangladesh:\n",
        "  print(\"this is a city in Bagladesh \")\n",
        "else:\n",
        "  print(\"this is not one of the main cities in our database\")"
      ],
      "metadata": {
        "colab": {
          "base_uri": "https://localhost:8080/"
        },
        "id": "iPMtVaWvlLud",
        "outputId": "251946ab-f48c-48e4-e989-3bb115317a96"
      },
      "execution_count": 6,
      "outputs": [
        {
          "output_type": "stream",
          "name": "stdout",
          "text": [
            "Please enter any main city in India , Pakistan or Bangladesh\n",
            "mumbai\n",
            "this is city in India\n"
          ]
        }
      ]
    }
  ]
}