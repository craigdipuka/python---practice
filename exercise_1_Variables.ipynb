{
  "nbformat": 4,
  "nbformat_minor": 0,
  "metadata": {
    "colab": {
      "provenance": [],
      "authorship_tag": "ABX9TyO07BYKCt+ID9IEg5Mnbs+u",
      "include_colab_link": true
    },
    "kernelspec": {
      "name": "python3",
      "display_name": "Python 3"
    },
    "language_info": {
      "name": "python"
    }
  },
  "cells": [
    {
      "cell_type": "markdown",
      "metadata": {
        "id": "view-in-github",
        "colab_type": "text"
      },
      "source": [
        "<a href=\"https://colab.research.google.com/github/craigdipuka/python---practice/blob/main/exercise_1_Variables.ipynb\" target=\"_parent\"><img src=\"https://colab.research.google.com/assets/colab-badge.svg\" alt=\"Open In Colab\"/></a>"
      ]
    },
    {
      "cell_type": "markdown",
      "source": [],
      "metadata": {
        "id": "rWFr759vuycV"
      }
    },
    {
      "cell_type": "markdown",
      "source": [
        "Exercise: Python Variables\n",
        "\n",
        "Create a variable called break and assign it a value 5. See what happens and find out the reason behind the behavior that you see.\n",
        "\n",
        "Create two variables. One to store your birth year and another one to store current year. Now calculate your age using these two variables\n",
        "\n",
        "Store your first, middle and last name in three different variables and then print your full name using these variables\n",
        "\n",
        "Answer which of these are invalid variable names: _nation 1record record1 record_one record-one record^one continue"
      ],
      "metadata": {
        "id": "opgU9Ynguk_i"
      }
    },
    {
      "cell_type": "code",
      "source": [
        "break1 = 5"
      ],
      "metadata": {
        "id": "oXQPNSU3u4Ps"
      },
      "execution_count": 2,
      "outputs": []
    },
    {
      "cell_type": "code",
      "source": [
        "birth_year = 2001\n",
        "current_year = 2024\n",
        "age = current_year - birth_year\n",
        "print(age)"
      ],
      "metadata": {
        "colab": {
          "base_uri": "https://localhost:8080/"
        },
        "id": "MoUyMFRUvcub",
        "outputId": "d7ab55ec-7ebc-4785-ef8e-069463e44694"
      },
      "execution_count": 3,
      "outputs": [
        {
          "output_type": "stream",
          "name": "stdout",
          "text": [
            "23\n"
          ]
        }
      ]
    },
    {
      "cell_type": "markdown",
      "source": [],
      "metadata": {
        "id": "xtsTBWJUvDbO"
      }
    },
    {
      "cell_type": "code",
      "source": [
        "firstName = \"Craig\"\n",
        "middleName = \"Simba\"\n",
        "lastName = \"Dipuka\"\n",
        "print(f\"{firstName} {middleName} {lastName}\")"
      ],
      "metadata": {
        "colab": {
          "base_uri": "https://localhost:8080/"
        },
        "id": "6tkJjJeUv338",
        "outputId": "242ea02d-b484-4e63-e12b-9a3ea2521e80"
      },
      "execution_count": 4,
      "outputs": [
        {
          "output_type": "stream",
          "name": "stdout",
          "text": [
            "Craig Simba Dipuka\n"
          ]
        }
      ]
    }
  ]
}