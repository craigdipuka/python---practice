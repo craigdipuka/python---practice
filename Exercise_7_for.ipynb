{
  "nbformat": 4,
  "nbformat_minor": 0,
  "metadata": {
    "colab": {
      "provenance": [],
      "authorship_tag": "ABX9TyObEAQdA8IBh0OQ5IuF48QY",
      "include_colab_link": true
    },
    "kernelspec": {
      "name": "python3",
      "display_name": "Python 3"
    },
    "language_info": {
      "name": "python"
    }
  },
  "cells": [
    {
      "cell_type": "markdown",
      "metadata": {
        "id": "view-in-github",
        "colab_type": "text"
      },
      "source": [
        "<a href=\"https://colab.research.google.com/github/craigdipuka/python---practice/blob/main/Exercise_7_for.ipynb\" target=\"_parent\"><img src=\"https://colab.research.google.com/assets/colab-badge.svg\" alt=\"Open In Colab\"/></a>"
      ]
    },
    {
      "cell_type": "markdown",
      "source": [
        "# ## Exercise: Python for loop\n",
        "1. After flipping a coin 10 times you got this result,\n",
        "\n",
        "result = [\"heads\",\"tails\",\"tails\",\"heads\",\"tails\",\"heads\",\"heads\",\"tails\",\"tails\",\"tails\"]\n",
        "\n",
        " Using for loop figure out how many times you got heads"
      ],
      "metadata": {
        "id": "foPomvHRn-ei"
      }
    },
    {
      "cell_type": "code",
      "execution_count": 6,
      "metadata": {
        "colab": {
          "base_uri": "https://localhost:8080/"
        },
        "id": "cu7INKxZn5JF",
        "outputId": "7fb9db23-8735-42a7-f641-a85e53131160"
      },
      "outputs": [
        {
          "output_type": "stream",
          "name": "stdout",
          "text": [
            "Heads is  =  4\n"
          ]
        }
      ],
      "source": [
        "result = [\"heads\",\"tails\",\"tails\",\"heads\",\"tails\",\"heads\",\"heads\",\"tails\",\"tails\",\"tails\"]\n",
        "count = 0\n",
        "for item in result:\n",
        "  if item == \"heads\":\n",
        "   count +=1\n",
        "\n",
        "print(\"Heads is  = \" ,count)"
      ]
    },
    {
      "cell_type": "code",
      "source": [],
      "metadata": {
        "id": "EBXiZi6uqnrf"
      },
      "execution_count": null,
      "outputs": []
    }
  ]
}